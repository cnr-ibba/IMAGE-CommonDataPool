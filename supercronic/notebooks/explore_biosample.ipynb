{
 "cells": [
  {
   "cell_type": "markdown",
   "metadata": {},
   "source": [
    "# Explore biosamples"
   ]
  },
  {
   "cell_type": "code",
   "execution_count": 1,
   "metadata": {},
   "outputs": [],
   "source": [
    "import sys\n",
    "import asyncio\n",
    "import aiohttp\n",
    "import logging\n",
    "from pprint import pprint\n",
    "\n",
    "sys.path.insert(0, \"../scripts\")\n",
    "logger = logging.getLogger(__name__)\n",
    "\n",
    "# custom supercronic modules\n",
    "import helpers\n",
    "from helpers.backend import CONNECTOR, get_ruleset, CDPConverter, put_record, BACKEND_URL\n",
    "from helpers.biosamples import get_biosample_record"
   ]
  },
  {
   "cell_type": "markdown",
   "metadata": {},
   "source": [
    "Custom settings valid for ipython notebook (which is executed outside docker contaners):"
   ]
  },
  {
   "cell_type": "code",
   "execution_count": 2,
   "metadata": {},
   "outputs": [],
   "source": [
    "BACKEND_URL = \"http://localhost:26081/backend\"\n",
    "helpers.backend.BACKEND_URL = BACKEND_URL"
   ]
  },
  {
   "cell_type": "code",
   "execution_count": 3,
   "metadata": {},
   "outputs": [],
   "source": [
    "async def get_converter(session):\n",
    "    # Get rules from github. Start a task\n",
    "    logger.info(\"Getting ruleset\")\n",
    "    ruleset_task = asyncio.create_task(get_ruleset(session))\n",
    "    standard_rules, organism_rules, specimen_rules = await ruleset_task\n",
    "    converter = CDPConverter(\n",
    "            standard_rules,\n",
    "            organism_rules,\n",
    "            specimen_rules)\n",
    "        \n",
    "    return converter"
   ]
  },
  {
   "cell_type": "code",
   "execution_count": 4,
   "metadata": {},
   "outputs": [],
   "source": [
    "session = aiohttp.ClientSession(connector=CONNECTOR)\n",
    "loop = asyncio.get_event_loop()\n",
    "converter = await loop.create_task(get_converter(session))\n",
    "biosample_record, etag = await loop.create_task(get_biosample_record('SAMEA7044752', session))"
   ]
  },
  {
   "cell_type": "code",
   "execution_count": 5,
   "metadata": {},
   "outputs": [],
   "source": [
    "record = converter.convert_record(biosample_record, etag)"
   ]
  },
  {
   "cell_type": "code",
   "execution_count": 6,
   "metadata": {},
   "outputs": [
    {
     "data": {
      "text/plain": [
       "dict_keys(['name', 'accession', 'domain', 'release', 'update', 'taxId', 'characteristics', 'relationships', 'externalReferences', 'releaseDate', 'updateDate', 'submittedVia', 'create', 'certificates', '_links'])"
      ]
     },
     "execution_count": 6,
     "metadata": {},
     "output_type": "execute_result"
    }
   ],
   "source": [
    "biosample_record.keys()"
   ]
  },
  {
   "cell_type": "markdown",
   "metadata": {},
   "source": [
    "Try to force record update:"
   ]
  },
  {
   "cell_type": "code",
   "execution_count": 7,
   "metadata": {},
   "outputs": [
    {
     "name": "stdout",
     "output_type": "stream",
     "text": [
      "None\n"
     ]
    }
   ],
   "source": [
    "result = await loop.create_task(put_record(session, biosample_record['accession'], record, record['material']))\n",
    "print(result)"
   ]
  },
  {
   "cell_type": "code",
   "execution_count": 8,
   "metadata": {},
   "outputs": [
    {
     "data": {
      "text/plain": [
       "<coroutine object ClientSession.close at 0x7fd8e8498c20>"
      ]
     },
     "execution_count": 8,
     "metadata": {},
     "output_type": "execute_result"
    }
   ],
   "source": [
    "session.close()"
   ]
  }
 ],
 "metadata": {
  "kernelspec": {
   "display_name": "Python 3",
   "language": "python",
   "name": "python3"
  },
  "language_info": {
   "codemirror_mode": {
    "name": "ipython",
    "version": 3
   },
   "file_extension": ".py",
   "mimetype": "text/x-python",
   "name": "python",
   "nbconvert_exporter": "python",
   "pygments_lexer": "ipython3",
   "version": "3.7.6"
  }
 },
 "nbformat": 4,
 "nbformat_minor": 4
}
