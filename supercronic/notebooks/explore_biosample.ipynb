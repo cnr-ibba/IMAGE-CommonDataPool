{
 "cells": [
  {
   "cell_type": "markdown",
   "metadata": {},
   "source": [
    "# Explore biosamples"
   ]
  },
  {
   "cell_type": "code",
   "execution_count": 1,
   "metadata": {},
   "outputs": [],
   "source": [
    "import sys\n",
    "import asyncio\n",
    "import aiohttp\n",
    "import logging\n",
    "from pprint import pprint\n",
    "\n",
    "sys.path.insert(0, \"../scripts\")\n",
    "logger = logging.getLogger(__name__)\n",
    "\n",
    "# custom supercronic modules\n",
    "from helpers.backend import CONNECTOR, get_ruleset, CDPConverter\n",
    "from helpers.biosamples import get_biosample_record"
   ]
  },
  {
   "cell_type": "code",
   "execution_count": 2,
   "metadata": {},
   "outputs": [],
   "source": [
    "async def get_converter(session):\n",
    "    # Get rules from github. Start a task\n",
    "    logger.info(\"Getting ruleset\")\n",
    "    ruleset_task = asyncio.create_task(get_ruleset(session))\n",
    "    standard_rules, organism_rules, specimen_rules = await ruleset_task\n",
    "    converter = CDPConverter(\n",
    "            standard_rules,\n",
    "            organism_rules,\n",
    "            specimen_rules)\n",
    "        \n",
    "    return converter"
   ]
  },
  {
   "cell_type": "code",
   "execution_count": 3,
   "metadata": {},
   "outputs": [
    {
     "data": {
      "text/plain": [
       "<coroutine object ClientSession.close at 0x7f3176787200>"
      ]
     },
     "execution_count": 3,
     "metadata": {},
     "output_type": "execute_result"
    }
   ],
   "source": [
    "session = aiohttp.ClientSession(connector=CONNECTOR)\n",
    "loop = asyncio.get_event_loop()\n",
    "converter = await loop.create_task(get_converter(session))\n",
    "biosample_record, etag = await loop.create_task(get_biosample_record('SAMEA7044752', session))\n",
    "session.close()"
   ]
  },
  {
   "cell_type": "code",
   "execution_count": 4,
   "metadata": {},
   "outputs": [
    {
     "name": "stderr",
     "output_type": "stream",
     "text": [
      "Unmanaged key 'externalReferences': [{'url': 'https://www.ebi.ac.uk/ena/data/view/ERS5331193', 'duo': []}]\n"
     ]
    },
    {
     "data": {
      "text/plain": [
       "{'data_source_id': 'SAMEA7044752',\n",
       " 'alternative_id': '1-FLI_IM_661522',\n",
       " 'project': 'IMAGE',\n",
       " 'submission_title': 'Other chicken',\n",
       " 'material': 'organism',\n",
       " 'material_ontology': 'http://purl.obolibrary.org/obo/OBI_0100026',\n",
       " 'person_last_name': ['Garcia'],\n",
       " 'person_email': ['mailto:robin.garcia@fli.de'],\n",
       " 'person_affiliation': ['Friedrich Loeffler Institut - Bundesforschungsinstitut fuer Tiergesundheit'],\n",
       " 'person_role': ['submitter'],\n",
       " 'person_role_ontology': ['http://www.ebi.ac.uk/efo/EFO_0001741'],\n",
       " 'organization_name': ['Friedrich Loeffler Institut - Bundesforschungsinstitut fuer Tiergesundheit'],\n",
       " 'organization_role': ['submitter'],\n",
       " 'organization_role_ontology': ['http://www.ebi.ac.uk/efo/EFO_0001741'],\n",
       " 'gene_bank_name': 'FLI',\n",
       " 'gene_bank_country': 'Germany',\n",
       " 'gene_bank_country_ontology': 'http://purl.obolibrary.org/obo/NCIT_C16636',\n",
       " 'data_source_type': 'Template',\n",
       " 'data_source_version': '2020-05-19, version 1.5',\n",
       " 'species': 'Gallus gallus',\n",
       " 'species_ontology': 'http://purl.obolibrary.org/obo/NCBITaxon_9031',\n",
       " 'submission_description': 'IMAGE project - Task T6.3 - Case study',\n",
       " 'person_first_name': ['Robin'],\n",
       " 'organization_address': ['Höltystr. 10, 31535 Neustadt am Rübenberge'],\n",
       " 'organization_country': ['Germany'],\n",
       " 'organization_country_ontology': ['http://purl.obolibrary.org/obo/NCIT_C16636'],\n",
       " 'description': '',\n",
       " 'person_initial': ['LBW'],\n",
       " 'organization_uri': ['https://www.fli.de/de/home/'],\n",
       " 'publication_doi': '',\n",
       " 'etag': '\"054c302e34fa5e6287a96d29f3e4a9a76\"',\n",
       " 'supplied_breed': 'chicken',\n",
       " 'efabis_breed_country': 'Germany',\n",
       " 'sex': 'female',\n",
       " 'sex_ontology': 'http://purl.obolibrary.org/obo/PATO_0000383',\n",
       " 'birth_location_accuracy': 'missing geographic information',\n",
       " 'mapped_breed': 'chicken breed',\n",
       " 'mapped_breed_ontology': 'http://purl.obolibrary.org/obo/LBO_0000002',\n",
       " 'birth_date': '',\n",
       " 'birth_date_unit': '',\n",
       " 'birth_location': '',\n",
       " 'birth_location_longitude': '',\n",
       " 'birth_location_longitude_unit': '',\n",
       " 'birth_location_latitude': '',\n",
       " 'birth_location_latitude_unit': '',\n",
       " 'child_of': [],\n",
       " 'specimens': ['SAMEA7044739']}"
      ]
     },
     "execution_count": 4,
     "metadata": {},
     "output_type": "execute_result"
    }
   ],
   "source": [
    "converter.convert_record(biosample_record, etag)"
   ]
  },
  {
   "cell_type": "code",
   "execution_count": 5,
   "metadata": {},
   "outputs": [
    {
     "data": {
      "text/plain": [
       "dict_keys(['name', 'accession', 'domain', 'release', 'update', 'taxId', 'characteristics', 'relationships', 'externalReferences', 'releaseDate', 'updateDate', 'submittedVia', 'create', 'certificates', '_links'])"
      ]
     },
     "execution_count": 5,
     "metadata": {},
     "output_type": "execute_result"
    }
   ],
   "source": [
    "biosample_record.keys()"
   ]
  },
  {
   "cell_type": "code",
   "execution_count": null,
   "metadata": {},
   "outputs": [],
   "source": []
  }
 ],
 "metadata": {
  "kernelspec": {
   "display_name": "Python 3",
   "language": "python",
   "name": "python3"
  },
  "language_info": {
   "codemirror_mode": {
    "name": "ipython",
    "version": 3
   },
   "file_extension": ".py",
   "mimetype": "text/x-python",
   "name": "python",
   "nbconvert_exporter": "python",
   "pygments_lexer": "ipython3",
   "version": "3.7.6"
  }
 },
 "nbformat": 4,
 "nbformat_minor": 4
}
